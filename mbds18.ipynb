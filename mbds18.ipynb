{
 "cells": [
  {
   "cell_type": "markdown",
   "metadata": {},
   "source": [
    "<div style=\"height:480px;padding:10px;background:#eeeeee;\">\n",
    "<h1 align=\"center\">A Crash Course in Programming in Python</h1>\n",
    "<ul><li>\n",
    "<h3><a href=\"https://github.com/smkautz/mbds18\"> https://github.com/smkautz/mbds18</a></h3>\n",
    "<li><h3><a href=\"http://web.cs.iastate.edu/~smkautz/mbds2018/resources.html\">Links for resources discussed in the workshop</a> </h3>\n",
    "</ul>\n",
    "<img src=\"http://web.cs.iastate.edu/~smkautz/mbds2018/python.png\" alt=\"For image see https://xkcd.com/353/\">\n",
    "<h3 align=\"center\">Midwest Big Data Summer School, May 2018<br>\n",
    "Steve Kautz (<a href=\"http://web.cs.iastate.edu/~smkautz/\">http://web.cs.iastate.edu/~smkautz/</a>)<br>\n",
    "David Johnston<br>\n",
    "Johirul Islam<br>\n",
    "\n",
    "</h3>\n",
    "</div>"
   ]
  },
  {
   "cell_type": "markdown",
   "metadata": {},
   "source": [
    "<div style=\"height:350px;padding:10px;background:#eeeeee;\">\n",
    "<h1 align=\"center\">Using this document\n",
    "</h1>\n",
    "<ul>\n",
    "<li><h2>These \"slides\" are in the form of a <em>Jupyter notebook</em> (aka IPython) in which we can edit and run Python code\n",
    "</h2>\n",
    "<ul>\n",
    "<li><h3>If you go to the github link above and just click on <code>mbds18.ipynb</code>, github automatically converts the notebook to a static html document\n",
    "</h3></ul>\n",
    "<li><h2>To actually run the code, you'll need to load it from the notebook server, which you can do in two ways \n",
    "</h2>\n",
    "  <ul><li>\n",
    "  <h3>Install <a href=\"http://jupyter.org/install.html\">Jupyter Notebook</a> and run the server locally. This is the most robust and flexible option. (Note: The recommended way to install Jupyter is to install \n",
    "  <a href=\"https://www.continuum.io/\">Anaconda</a>, which also includes the pandas library and its dependencies along with other useful stuff, but requires about 1.2G.)\n",
    "  </h3>\n",
    "  <li>\n",
    "  <h3>Use <a href=\"https://jupyter.org/try\">https://jupyter.org/try</a></h3> \n",
    "  </ul>\n",
    "</ul>\n",
    "</div>"
   ]
  },
  {
   "cell_type": "markdown",
   "metadata": {},
   "source": [
    "<div style=\"height:500px;padding:10px;background:#eeeeee;\">\n",
    "<h1 align=\"center\">Options for following along\n",
    "</h1>\n",
    "<ul>\n",
    "<li><h3>Go to <a href=\"https://github.com/smkautz/mbds18\">https://github.com/smkautz/mbds18</a>.  Download the repository as a zip file and extract it locally (or clone the repository, if you prefer). \n",
    "</h3>\n",
    "<li><h3>If you have installed Anaconda</h3>\n",
    "  <ol><li>\n",
    "  <h4>Start the notebook server (start from the Anaconda navigator application, or run <code>jupyter notebook</code> at command prompt)</h4>.  This should bring up a browser window.\n",
    "  <li><h4>Mac users: you may need to copy/paste the URL from the terminal, which looks like http://localhost:8888 followed by a \"security token\"\n",
    "  <li><h4>Navigate to your downloaded file <code>mbds.ipynb</code></h4>\n",
    "  </ol>\n",
    "<li><h3>If you haven't installed Anaconda, you can go to <a href=\"https://jupyter.org/try\">https://jupyter.org/try</a></h3>\n",
    "<ul><li><h4>Click the \"Python\" box</h4>\n",
    "  <li><h4>Select File --&gt; Open</h4>\n",
    "  <li><h4>Click the \"Upload\" button at upper right and navigate to downloaded file</h4>\n",
    "  <li>\n",
    "  <h4>this sets up a temporary server and you'll be disconnected periodically - when the connection fails, you'll need to upload the notebook again</h4>\n",
    "  </ul>\n",
    "\n",
    "\n",
    "</ul>\n",
    "</div>"
   ]
  },
  {
   "cell_type": "markdown",
   "metadata": {},
   "source": [
    "### *Example: a simple Python program (Click in the cell, and then shift-enter to run)*"
   ]
  },
  {
   "cell_type": "code",
   "execution_count": 1,
   "metadata": {},
   "outputs": [
    {
     "name": "stdout",
     "output_type": "stream",
     "text": [
      "Hello, Steve!\n",
      "5\n"
     ]
    }
   ],
   "source": [
    "# Our first Python program prints a string of text and does a little arithmetic\n",
    "print(\"Hello, Steve!\")\n",
    "print(2 + 3)"
   ]
  },
  {
   "cell_type": "code",
   "execution_count": 2,
   "metadata": {
    "collapsed": true
   },
   "outputs": [],
   "source": [
    "x = 42"
   ]
  },
  {
   "cell_type": "code",
   "execution_count": 3,
   "metadata": {},
   "outputs": [
    {
     "name": "stdout",
     "output_type": "stream",
     "text": [
      "42\n"
     ]
    }
   ],
   "source": [
    "print(x)"
   ]
  },
  {
   "cell_type": "markdown",
   "metadata": {},
   "source": [
    "### (*Then, try editing it and re-run.  For example, change \"World\" to your name.*)"
   ]
  },
  {
   "cell_type": "markdown",
   "metadata": {},
   "source": [
    "<div style=\"height:400px;padding:10px;background:#eeeeee;\">\n",
    "<h1 align=\"center\">Things to notice about the notebook\n",
    "</h1>\n",
    "<ul>\n",
    "<li><h2>Click in a cell, Shift-Enter to \"execute\"\n",
    "</h2>\n",
    "<ul>\n",
    "  <li><h3>Double-click to edit markdown, green bar means \"edit mode\"\n",
    "  </h3>\n",
    "  </ul>\n",
    "<li><h2>Toolbar: \"+\" to add a cell, scissors to delete, arrows to move\n",
    "</h2>\n",
    "<li><h2>Dropdown to select Code or \"Markdown\"\n",
    "</h2>\n",
    "<li><h2>File menu -  options to rename, save, or \"download\" (save as)\n",
    "</h2>\n",
    "<li><h2>Kernel menu - options to clear, re-run all cells\n",
    "</h2>\n",
    "<li><h2>Cells may refer to variables/functions defined in previous cells (which may need to be re-run)\n",
    "</h2>\n",
    "</ul>\n",
    "</div>"
   ]
  },
  {
   "cell_type": "markdown",
   "metadata": {},
   "source": [
    "<div style=\"height:350px;padding:10px;background:#eeeeee;\">\n",
    "<h1 align=\"center\">Getting started\n",
    "</h1>\n",
    "<ul>\n",
    "<li><h2>Before you jump in too much further...\n",
    "</h2>\n",
    "<li><h2>... let's continue with an introduction (10-15 min)\n",
    "</h2>\n",
    "<li><h2>Think about programming, and what we should try to accomplish today\n",
    "</h2>\n",
    "</ul>\n",
    "</div>"
   ]
  },
  {
   "cell_type": "markdown",
   "metadata": {},
   "source": [
    "<div style=\"height:350px;padding:10px;background:#eeeeee;\">\n",
    "<h1 align=\"center\">Who is Steve Kautz?\n",
    "</h1>\n",
    "<ul>\n",
    "<li><h2>Are you a real data scientist?\n",
    "</h2>\n",
    "<ul>\n",
    "  <li><h3>Nope\n",
    "  </h3>\n",
    "  <li><h3>But my son-in-law went to a data science conference last summer, and brought me back this t-shirt...\n",
    "  </h3>\n",
    "  </ul>\n",
    "<li><h2>Oh, and I did this same workshop for the past couple of years\n",
    "</h2>\n",
    "</ul>\n",
    "</div>"
   ]
  },
  {
   "cell_type": "markdown",
   "metadata": {
    "collapsed": true
   },
   "source": [
    "<div style=\"height:350px;padding:10px;background:#eeeeee;\">\n",
    "<h1 align=\"center\">My day job\n",
    "</h1>\n",
    "<ul>\n",
    "<li><h2>Senior Lecturer at ISU\n",
    "</h2>\n",
    "<ul>\n",
    "  <li><h3>(That means ISU gets the senior discount when they calculate my salary...)\n",
    "  </h3>\n",
    "  </ul>\n",
    "<li><h2>I teach intro programming for about 1000 undergrads each year\n",
    "</h2>\n",
    "<ul>\n",
    "  <li><h3>Com S 127 is a gentle introduction to programming using Python\n",
    "  </h3>\n",
    "  <li><h3>Check out the resources page for book links and more info\n",
    "  </h3>\n",
    "  </ul>\n",
    "<li><h2>I taught myself Python about 10 years ago to handle a bunch of tedious data processing tasks\n",
    "</h2> \n",
    "<ul>\n",
    "  <li><h3>I'm not a Python \"expert\", I just use it a lot for practical stuff\n",
    "  </h3>\n",
    "\n",
    "</ul>\n",
    "</div>"
   ]
  },
  {
   "cell_type": "markdown",
   "metadata": {},
   "source": [
    "<div style=\"height:350px;padding:10px;background:#eeeeee;\">\n",
    "<h1 align=\"center\">What is Python?\n",
    "</h1>\n",
    "<ul>\n",
    "<li><h2>A general-purpose programming language\n",
    "</h2>\n",
    "<li><h2>Flexible in supporting several \"styles\" of programming (imperative, functional, object-oriented)\n",
    "</h2>\n",
    "<ul>\n",
    "  <li><h3>Can be used to write standalone applications\n",
    "  </h3>\n",
    "  <li><h3>The language interpreter can be used interactively\n",
    "  </h3>\n",
    "  <li><h3>Commonly used to write \"scripts\" to make use of existing code libraries\n",
    "  </h3>\n",
    "  </ul>\n",
    "</ul>\n",
    "</div>"
   ]
  },
  {
   "cell_type": "markdown",
   "metadata": {},
   "source": [
    "<div style=\"height:350px;padding:10px;background:#eeeeee;\">\n",
    "<h1 align=\"center\">What are we doing here?\n",
    "</h1>\n",
    "<ul>\n",
    "<li><h2>Com S 127 is 15 weeks...\n",
    "</h2>\n",
    "<li><h2>We have, what, 3 hours today?\n",
    "</h2>\n",
    "<ul>\n",
    "  <li><h3>So we will have to do the 5-minute version!\n",
    "  </h3>\n",
    "\n",
    "  </ul>\n",
    "</ul>\n",
    "</div>"
   ]
  },
  {
   "cell_type": "markdown",
   "metadata": {},
   "source": [
    "<div style=\"height:350px;padding:10px;background:#eeeeee;\">\n",
    "<h1 align=\"center\">I Don't Want to be a Programmer\n",
    "</h1>\n",
    "<ul>\n",
    "<li><h2>You don't need to be an expert to do useful things!\n",
    "</h2>\n",
    "<ul>\n",
    "  <li><h3>The appeal of Python is that you can accomplish a lot without getting too bogged down in the details of the language\n",
    "  </h3> \n",
    "    <li><h3>Most of the complex code you need has already been written\n",
    "  </h3> \n",
    "  </ul>\n",
    "<li><h2>Today:\n",
    "</h2>\n",
    "<ul>\n",
    "  <li><h3>Emphasize using tools, not \"software development\"\n",
    "  </h3> \n",
    "    <li><h3>Enough so that you can make sense of examples and documentation when you look stuff up\n",
    "  </h3>  \n",
    "  </ul>\n",
    "</ul>\n",
    "</div>\n"
   ]
  },
  {
   "cell_type": "markdown",
   "metadata": {},
   "source": [
    "<div style=\"height:350px;padding:10px;background:#eeeeee;\">\n",
    "<h1 align=\"center\">Really, I Don't Want to be a Programmer\n",
    "</h1>\n",
    "<ul>\n",
    "<li><h2>Ok, forget about programming for a sec\n",
    "</h2>\n",
    "\n",
    "<li><h2>How do you answer simple questions about data?\n",
    "</h2>\n",
    "</ul>\n",
    "</div>"
   ]
  },
  {
   "cell_type": "markdown",
   "metadata": {},
   "source": [
    "<div style=\"height:350px;padding:10px;background:#eeeeee;\">\n",
    "</h1>\n",
    "<ul>\n",
    "<li><h2>What's the largest number in this list?\n",
    "</h2>\n",
    "</ul>\n",
    "<h2 align=\"center\">43 17 67 32 86 79 18</h2>\n",
    "\n",
    "</div>"
   ]
  },
  {
   "cell_type": "markdown",
   "metadata": {},
   "source": [
    "<div style=\"height:350px;padding:10px;background:#eeeeee;\">\n",
    "<ul>\n",
    "<li><h2>What's the largest number in this list?\n",
    "</h2>\n",
    "196 61 429 105 522 398 144 274 23 354 145 47 511 516 278 507 526 404 27 16 486 320 284 56 395 318 178 4 217 354 160 279 510 98 345 568 257 98 435 234 493 124 171 96 542 397 349 393 540 379 37 513 159 329 213 58 404 526 170 33 422 399 535 323 150 432 422 116 231 140 434 188 305 542 449 504 108 99 410 189 259 83 573 310 332 51 120 244 325 530 417 84 180 407 391 93 264 484 570 530 17 102 324 76 248 564 265 247 170 262 370 509 108 398 176 370 21 527 61 544 517 495 49 29 185 198 395 112 77 37 417 350 83 444 149 469 299 346 281 512 351 95 474 443 488 517 83  494 18 330 438 336 49 371 32 402 241 442 549 64 43 338 206 571 246 519 18 284 513 133 205 305 481 90 518 297 565 184 210 131 270 238 24 532 142 168 28 1 364 128 90 355 277 42 543 440 223 546 193 245 490 270 218 226 259 442 392 481\n",
    " 316 185 395 437 231 148 40 34 21 407 14 109 312 274 350 372 516 445 566 354 247 80 281 318 501 60 297 291 66 134 501 275 271 190 91 298 23 506 511 313 337 408 496 544 478 282 138 342 215 384 227 525 103 18 52 378 436 519 371 164\n",
    " 552 309 355 336 373 37 457 27 574 515 37 166 317 351 213 499 296 30 282 156 361 465 483 568 186 525 103 18 34 305 19 445 374 379 486 112 522 392 388 287\n",
    "\n",
    "\n",
    "</ul>\n",
    "</div>"
   ]
  },
  {
   "cell_type": "markdown",
   "metadata": {},
   "source": [
    "<div style=\"height:350px;padding:10px;background:#eeeeee;\">\n",
    "<h1 align=\"center\">More generally: given any list, what would be a strategy (\"algorithm\") for finding the largest value?\n",
    "</h1>\n",
    "<ul>\n",
    "<li><h2>Picture a reasonably bright 4th grader, and describe the steps you want to carry out...\n",
    "</h2>\n",
    "<img src=\"http://web.cs.iastate.edu/~smkautz/mbds2018/fourth_grader.png\" alt=\"Picture of a girl holding a calculator\" width=\"500\">\n",
    "</ul>\n",
    "</div>"
   ]
  },
  {
   "cell_type": "markdown",
   "metadata": {},
   "source": [
    "<div style=\"height:350px;padding:10px;background:#eeeeee;\">\n",
    "<h1 align=\"center\">A strategy described in \"pseudocode\"\n",
    "</h1>\n",
    "&nbsp;\n",
    "<pre style=\"font-size:120%\">\n",
    "    write down the first number\n",
    "    for each number in the list\n",
    "        if it’s bigger than the one you have written down,\n",
    "             write down the new one instead\n",
    "    return the last number you wrote down\n",
    "</pre>\n",
    "\n",
    "</div>"
   ]
  },
  {
   "cell_type": "markdown",
   "metadata": {},
   "source": [
    "<div style=\"height:350px;padding:10px;background:#eeeeee;\">\n",
    "<h1 align=\"center\">Is that really programming?\n",
    "</h1>\n",
    "<ul>\n",
    "<li><h2>The hard part is done!\n",
    "</h2>\n",
    "  <ul>\n",
    "  <li><h3>Identify the problem and criteria for correctness\n",
    "  </h3>\n",
    "    <li><h3>Describe the steps for solving it (the \"algorithm\")\n",
    "  </h3>\n",
    "  </ul>\n",
    "<li><h2>All we have to do is translate the steps into statements in some programming language\n",
    "</h2>\n",
    "  <ul>\n",
    "  <li><h3>Hmm, and figure out how to read input and represent data...\n",
    "  </h3>\n",
    "  </ul>\n",
    "</ul>\n",
    "\n",
    "</ul>\n",
    "<h1 align=\"center\"><em>So we can all go home now!</em>\n",
    "</h1>\n",
    "</div>"
   ]
  },
  {
   "cell_type": "markdown",
   "metadata": {},
   "source": [
    "<div style=\"height:350px;padding:10px;background:#eeeeee;\">\n",
    "<h1 align=\"center\">Running Python code\n",
    "</h1>\n",
    "<ul>\n",
    "<li><h2>There are many ways to edit and run Python code\n",
    "</h2>\n",
    "<ul>\n",
    "  <li><h3>(Will take a quick look at some alternatives later)\n",
    "  </h3>\n",
    "  </ul>\n",
    "<li><h2>This document is a <em>Jupyter (aka IPython) notebook</em> in which we can directly edit and execute Python code\n",
    "</h2>\n",
    "\n",
    "</ul>\n",
    "</div>"
   ]
  },
  {
   "cell_type": "markdown",
   "metadata": {},
   "source": [
    "### *Example: a simple Python program (Click in the cell and then shift-enter to run)*"
   ]
  },
  {
   "cell_type": "code",
   "execution_count": 4,
   "metadata": {},
   "outputs": [
    {
     "name": "stdout",
     "output_type": "stream",
     "text": [
      "Hello, World!\n",
      "Steve said, \"Hello, World!\"\n",
      "5\n",
      "5\n",
      "32\n",
      "32\n"
     ]
    }
   ],
   "source": [
    "# print() is a \"built-in function\"\n",
    "\n",
    "# Display a string literal\n",
    "print(\"Hello, World!\") \n",
    "\n",
    "# String literals may be single-quoted too\n",
    "print('Steve said, \"Hello, World!\"')\n",
    "\n",
    "# prints the value of an expression|\n",
    "print(2 + 3)\n",
    "\n",
    "# len() and pow() are also built-in functions\n",
    "print(len(\"Steve\"))\n",
    "print(pow(2, 5))\n",
    "print(pow(2, len(\"Steve\")))"
   ]
  },
  {
   "cell_type": "markdown",
   "metadata": {},
   "source": [
    "<div style=\"height:350px;padding:10px;background:#eeeeee;\">\n",
    "<h1 align=\"center\">Other ways to run Python code\n",
    "</h1>\n",
    "<ul>\n",
    "<li><h2>Type statements into the traditional Python shell\n",
    "</h2>\n",
    "<li><h2>Save as a text file, invoke Python interpreter at command prompt\n",
    "</h2>\n",
    "<li><h2>Use an IDE (\"Integrated Development Environment\") e.g. Wing 101\n",
    "</h2>\n",
    "<li><h2>Use an ActiveCode window in an interactive book such as \n",
    "<a href=\"http://interactivepython.org/runestone/static/thinkcspy/index.html\">How to Think Like a Computer Scientist</a>\n",
    "</h2>\n",
    "<li><h2>Philip Guo's <a href=\"http://pythontutor.com/\">Python Tutor</a>\n",
    "</h2>\n",
    "</ul>\n",
    "</div>"
   ]
  },
  {
   "cell_type": "markdown",
   "metadata": {},
   "source": [
    "### *Example - another Python program*"
   ]
  },
  {
   "cell_type": "code",
   "execution_count": 5,
   "metadata": {},
   "outputs": [
    {
     "name": "stdout",
     "output_type": "stream",
     "text": [
      "34.5\n"
     ]
    }
   ],
   "source": [
    "# Our second Python program\n",
    "miles = 345\n",
    "gallons = 10\n",
    "mpg = miles / gallons\n",
    "print(mpg)"
   ]
  },
  {
   "cell_type": "markdown",
   "metadata": {},
   "source": [
    "### (Note that the last 'print' is redundant in Jupyter, which automatically displays the value of the last expression in a cell) "
   ]
  },
  {
   "cell_type": "markdown",
   "metadata": {},
   "source": [
    "<div style=\"height:350px;padding:10px;background:#eeeeee;\">\n",
    "<h1 align=\"center\">A few things to notice\n",
    "</h1>\n",
    "<ul>\n",
    "<li><h2>We use the operator <code>=</code> to assign values to <em>variables</em>\n",
    "</h2>\n",
    "<li><h2>Values have types (though the type of a variable is dynamic)\n",
    "</h2>\n",
    "<li><h2>Use the built-in <code>type()</code> function to examine the type of an expression\n",
    "</h2>\n",
    "</ul>\n",
    "</div>"
   ]
  },
  {
   "cell_type": "code",
   "execution_count": 6,
   "metadata": {},
   "outputs": [
    {
     "data": {
      "text/plain": [
       "int"
      ]
     },
     "execution_count": 6,
     "metadata": {},
     "output_type": "execute_result"
    }
   ],
   "source": [
    "type(345)"
   ]
  },
  {
   "cell_type": "code",
   "execution_count": 7,
   "metadata": {},
   "outputs": [
    {
     "data": {
      "text/plain": [
       "float"
      ]
     },
     "execution_count": 7,
     "metadata": {},
     "output_type": "execute_result"
    }
   ],
   "source": [
    "type(mpg)"
   ]
  },
  {
   "cell_type": "code",
   "execution_count": 8,
   "metadata": {},
   "outputs": [
    {
     "data": {
      "text/plain": [
       "str"
      ]
     },
     "execution_count": 8,
     "metadata": {},
     "output_type": "execute_result"
    }
   ],
   "source": [
    "type(\"Hello, World!\")"
   ]
  },
  {
   "cell_type": "code",
   "execution_count": 9,
   "metadata": {},
   "outputs": [
    {
     "name": "stdout",
     "output_type": "stream",
     "text": [
      "True\n"
     ]
    },
    {
     "data": {
      "text/plain": [
       "bool"
      ]
     },
     "execution_count": 9,
     "metadata": {},
     "output_type": "execute_result"
    }
   ],
   "source": [
    "print(miles < 500)\n",
    "type(miles > 500)"
   ]
  },
  {
   "cell_type": "markdown",
   "metadata": {},
   "source": [
    "<div style=\"height:350px;padding:10px;background:#eeeeee;\">\n",
    "<h1 align=\"center\">A few things to notice\n",
    "</h1>\n",
    "<ul>\n",
    "<li><h2>The operator <code>/</code> performs floating-point division in Python 3\n",
    "</h2>\n",
    "<ul>\n",
    "  <li><h3>Use <code>//</code> for integer division, <code>%</code> for remainder (modulus)\n",
    "  </h3>\n",
    "  </ul>\n",
    "<li><h2>Python 2 vs Python 3 - many subtle differences, two obvious ones\n",
    "</h2>\n",
    "<ul>\n",
    "  <li><h3>In Python 2, the operator <code>/</code> performs <em>integer</em> division when both operands have <code>int</code> type &nbsp; (e.g., <code>25 / 10</code> is 2, not 2.5)\n",
    "  </h3>\n",
    "  <li><h3><code>print</code> is invoked without parens\n",
    "  </h3>\n",
    "  </ul>\n",
    "<li><h2>The operator <code>=</code> does not mean \"equals\", it's an assignment of a new value\n",
    "</h2>\n",
    "<ul>\n",
    "  <li><h3>To check equality, use <code>==</code> or <code>!=</code>\n",
    "  </h3>\n",
    "  </ul>\n",
    "</ul>\n",
    "</div>"
   ]
  },
  {
   "cell_type": "markdown",
   "metadata": {},
   "source": [
    "### *A few more things to notice*"
   ]
  },
  {
   "cell_type": "code",
   "execution_count": 10,
   "metadata": {},
   "outputs": [
    {
     "name": "stdout",
     "output_type": "stream",
     "text": [
      "2.5\n",
      "2\n",
      "5\n"
     ]
    }
   ],
   "source": [
    "# In Python 3, the / operator always performs floating-point division\n",
    "# Use // for integer division\n",
    "print(25 / 10)\n",
    "print(25 // 10)\n",
    "print(25 % 10)"
   ]
  },
  {
   "cell_type": "code",
   "execution_count": 11,
   "metadata": {},
   "outputs": [
    {
     "name": "stdout",
     "output_type": "stream",
     "text": [
      "42\n",
      "47\n",
      "False\n",
      "47\n",
      "137\n"
     ]
    }
   ],
   "source": [
    "# REMEMBER: the = operator does not mean \"equals\", it assigns a new value\n",
    "# Use == or != to check equality\n",
    "x = 42\n",
    "print(x)\n",
    "x = x + 5\n",
    "print(x)\n",
    "print(x == 137)\n",
    "print(x)\n",
    "x = 137\n",
    "print(x)\n"
   ]
  },
  {
   "cell_type": "code",
   "execution_count": 12,
   "metadata": {
    "scrolled": true
   },
   "outputs": [
    {
     "name": "stdout",
     "output_type": "stream",
     "text": [
      "HelloWorld\n",
      "Your mileage is 34.5\n",
      "Your mileage is 34.5\n",
      "34.5\n"
     ]
    },
    {
     "ename": "TypeError",
     "evalue": "unsupported operand type(s) for /: 'str' and 'int'",
     "output_type": "error",
     "traceback": [
      "\u001b[0;31m---------------------------------------------------------------------------\u001b[0m",
      "\u001b[0;31mTypeError\u001b[0m                                 Traceback (most recent call last)",
      "\u001b[0;32m<ipython-input-12-ed0a0a1145b3>\u001b[0m in \u001b[0;36m<module>\u001b[0;34m()\u001b[0m\n\u001b[1;32m     16\u001b[0m \u001b[0;34m\u001b[0m\u001b[0m\n\u001b[1;32m     17\u001b[0m \u001b[0;31m# this would be an error\u001b[0m\u001b[0;34m\u001b[0m\u001b[0;34m\u001b[0m\u001b[0m\n\u001b[0;32m---> 18\u001b[0;31m \u001b[0mprint\u001b[0m\u001b[0;34m(\u001b[0m\u001b[0ms\u001b[0m \u001b[0;34m/\u001b[0m \u001b[0mgallons\u001b[0m\u001b[0;34m)\u001b[0m\u001b[0;34m\u001b[0m\u001b[0m\n\u001b[0m",
      "\u001b[0;31mTypeError\u001b[0m: unsupported operand type(s) for /: 'str' and 'int'"
     ]
    }
   ],
   "source": [
    "# The + operator can be used to concatenate strings\n",
    "s = \"Hello\" + \"World\"\n",
    "print(s)\n",
    "\n",
    "# Need to convert number to string in order to concatenate, using the str() function\n",
    "result = \"Your mileage is \" + str(miles / gallons)\n",
    "print(result)\n",
    "\n",
    "# Also useful for labeled output: print() takes multiple arguments\n",
    "print(\"Your mileage is\", miles / gallons)\n",
    "\n",
    "# Another common conversion is to parse a text string as a number\n",
    "# using the int() or float() functions\n",
    "s = \"345\"\n",
    "print(int(s) / gallons)\n",
    "\n",
    "# this would be an error\n",
    "print(s / gallons)\n"
   ]
  },
  {
   "cell_type": "markdown",
   "metadata": {},
   "source": [
    "<div style=\"height:350px;padding:10px;background:#ffdddd;\">\n",
    "<h1 align=\"center\">Try this\n",
    "</h1>\n",
    "<h3>Write statements that will make change from a given number of cents, using quarters, dimes, nickels, and pennies.\n",
    "For example: if <code>amount</code> starts at 138, your code should produce the output,</h3>\n",
    "<pre>\n",
    "5 quarters\n",
    "1 dimes\n",
    "0 nickels\n",
    "3 pennies\n",
    "</pre>\n",
    "<em>Tip: do it once by hand first.  How many times does 25 go into 138?  How much is left over?</em>\n",
    "\n",
    "</div>"
   ]
  },
  {
   "cell_type": "code",
   "execution_count": null,
   "metadata": {},
   "outputs": [],
   "source": [
    "# Make change for any given starting amount\n",
    "#amount = 138\n",
    "amount = int(input(\"Enter the amount: \"))\n",
    "\n",
    "\n",
    "quarter = amount // 25\n",
    "amount = amount % 25\n",
    "\n",
    "\n",
    "print(quarter)\n",
    "# TODO...\n"
   ]
  },
  {
   "cell_type": "markdown",
   "metadata": {},
   "source": [
    "<div style=\"height:350px;padding:10px;background:#eeeeee;\">\n",
    "<h1 align=\"center\">Remember this?  Finding the max in a list\n",
    "</h1>\n",
    "&nbsp;\n",
    "<pre style=\"font-size:120%\">\n",
    "    write down the first number\n",
    "    for each number in the list\n",
    "        if it’s bigger than the one we have,\n",
    "             write that one down instead\n",
    "    return the last number we wrote down\n",
    "</pre>\n",
    "\n",
    "</div>"
   ]
  },
  {
   "cell_type": "markdown",
   "metadata": {},
   "source": [
    "### *Finding the max - our first version as a Python program*"
   ]
  },
  {
   "cell_type": "code",
   "execution_count": null,
   "metadata": {},
   "outputs": [],
   "source": [
    "# Create a list of literal values to try it out\n",
    "my_list = [43, 17, 67, 32, 86, 79, 18]\n",
    "\n",
    "# Save the first (\"zeroth\") element of the list\n",
    "the_max = my_list[0]\n",
    "\n",
    "# Iterate over elements...\n",
    "for num in my_list:\n",
    "    # ...if we find a bigger one, update 'the_max'\n",
    "    if num > the_max:\n",
    "        the_max = num\n",
    "        \n",
    "# Examine the result\n",
    "print(the_max)"
   ]
  },
  {
   "cell_type": "markdown",
   "metadata": {},
   "source": [
    "<div style=\"height:350px;padding:10px;background:#eeeeee;\">\n",
    "<h1 align=\"center\">Things to notice\n",
    "</h1>\n",
    "<ul>\n",
    "<li><h2>What's a list, anyway?  What's up with that `my_list[0]` notation?\n",
    "</h2>\n",
    "  <ul>\n",
    "  <li><h3>A list is just a sequence of values, indexed starting at 0 (More later!)\n",
    "  </h3>\n",
    "\n",
    "  </ul>\n",
    "\n",
    "<li><h2>Illustrates basic <em>control structures</em> \n",
    "</h2>\n",
    "  <ul>\n",
    "      <li><h3>iteration (loops using `for` or `while`)\n",
    "  </h3>\n",
    "      <li><h3>conditional statements (`if`, `if/else`, `if/elif/elif/.../else`)</h3>\n",
    "  </ul>\n",
    "</ul>\n",
    "</div>"
   ]
  },
  {
   "cell_type": "code",
   "execution_count": null,
   "metadata": {
    "scrolled": false
   },
   "outputs": [],
   "source": [
    "# A few for-loop examples...\n",
    "\n",
    "my_list = [43, 17, 67, 32, 86, 79, 18]\n",
    "\n",
    "# Variable 'num' takes on each value in the list\n",
    "for num in my_list:\n",
    "    print(num)\n",
    "print(\"Done\")\n",
    "print()\n"
   ]
  },
  {
   "cell_type": "code",
   "execution_count": null,
   "metadata": {},
   "outputs": [],
   "source": [
    "\n",
    "# Elements of a list don't have to be numbers\n",
    "lawyers = [\"Dewey\", \"Cheatum\", \"Howe\"]\n",
    "for name in lawyers:\n",
    "    print(name)\n",
    "print()\n"
   ]
  },
  {
   "cell_type": "code",
   "execution_count": null,
   "metadata": {},
   "outputs": [],
   "source": [
    "\n",
    "# A \"range\" is a built-in list for number ranges\n",
    "for count in range(1, 11):\n",
    "    print(count)\n",
    "print(\"apples\")\n",
    "print(\"banana!\")\n",
    "   "
   ]
  },
  {
   "cell_type": "markdown",
   "metadata": {},
   "source": [
    "<div style=\"height:350px;padding:10px;background:#eeeeee;\">\n",
    "<h1 align=\"center\">Python uses <em>indentation</em> to show structure</h1>\n",
    "\n",
    "<img src=\"http://web.cs.iastate.edu/~smkautz/mbds2018/loop_body.png\" alt=\"Annotated code example\" width=\"800\">\n",
    "<ul>\n",
    "<li><h3>Has to be consistent (e.g., can't mix spaces and tabs)</h3>\n",
    "</ul>\n",
    "</div>"
   ]
  },
  {
   "cell_type": "markdown",
   "metadata": {},
   "source": [
    "<div style=\"height:350px;padding:10px;background:#eeeeee;\">\n",
    "<h1 align=\"center\">Works the same way for <em>conditional statements</em>\n",
    "</h1>\n",
    "<p>\n",
    "<pre>\n",
    "if <em>condition</em>:\n",
    "&nbsp;&nbsp;&nbsp;&nbsp;<em>statements</em>\n",
    "</pre>\n",
    "<br>\n",
    "<p>\n",
    "\n",
    "<p>\n",
    "<pre>\n",
    "if <em>condition</em>:\n",
    "&nbsp;&nbsp;&nbsp;&nbsp;<em>statements</em>\n",
    "else:\n",
    "&nbsp;&nbsp;&nbsp;&nbsp;<em>statements</em>\n",
    "</pre>\n",
    "<br>\n",
    "<p>\n",
    "\n",
    "\n",
    "</div>"
   ]
  },
  {
   "cell_type": "code",
   "execution_count": null,
   "metadata": {
    "collapsed": true
   },
   "outputs": [],
   "source": [
    "temp = 140\n",
    "\n",
    "# Goldilocks checks the temperature of the porridge\n",
    "if temp > 120:\n",
    "    print(\"Ouch!\")\n",
    "    print(\"too hot\")\n",
    "else:\n",
    "    if temp < 85:\n",
    "        print(\"Brrr!\")\n",
    "        print(\"too cold\")\n",
    "    else:\n",
    "        print(\"just right\")\n"
   ]
  },
  {
   "cell_type": "markdown",
   "metadata": {},
   "source": [
    "<div style=\"height:450px;padding:10px;background:#eeeeee;\">\n",
    "<h1 align=\"center\">Multiple indentation levels</h1>\n",
    "\n",
    "<img src=\"http://web.cs.iastate.edu/~smkautz/mbds2018/goldilocks_annotated.png\" alt=\"Annotated code example for nested conditional\" width=\"800\">\n",
    "\n",
    "</div>"
   ]
  },
  {
   "cell_type": "code",
   "execution_count": null,
   "metadata": {
    "collapsed": true
   },
   "outputs": [],
   "source": [
    "# Alternative solution for Goldilocks, using the 'elif' keyword\n",
    "if temp > 120:\n",
    "    print(\"Ouch!\")\n",
    "    print(\"too hot\")\n",
    "elif temp < 85:\n",
    "    print(\"Brrr!\")\n",
    "    print(\"too cold\")\n",
    "else:\n",
    "    print(\"just right\")"
   ]
  },
  {
   "cell_type": "markdown",
   "metadata": {},
   "source": [
    "<div style=\"height:350px;padding:10px;background:#eeeeee;\">\n",
    "<h1 align=\"center\">Finding the max, once more...</h1>\n",
    "\n",
    "<img src=\"http://web.cs.iastate.edu/~smkautz/mbds2018/loop_annotated.png\" alt=\"Annotated code example for finding the max\" width=\"800\">\n",
    "\n",
    "</div>"
   ]
  },
  {
   "cell_type": "markdown",
   "metadata": {},
   "source": [
    "<div style=\"height:350px;padding:10px;background:#eeeeee;\">\n",
    "<h1 align=\"center\">Visualization with pythontutor.com\n",
    "</h1>\n",
    "\n",
    "<ul>\n",
    "<li>\n",
    "<h3>\n",
    "<a href=\"http://www.pythontutor.com/visualize.html#code=%23%20Create%20a%20list%20of%20literal%20values%20to%20try%20it%20out%0Amy_list%20%3D%20%5B43,%2017,%2067,%2032,%2086,%2079,%2018%5D%0A%0A%23%20Save%20the%20first%20%28%22zeroth%22%29%20element%20of%20the%20list%0Athe_max%20%3D%20my_list%5B0%5D%0A%0A%23%20Iterate%20over%20elements...%0Afor%20num%20in%20my_list%3A%0A%20%20%20%20%23%20...if%20we%20find%20a%20bigger%20one,%20update%20'the_max'%0A%20%20%20%20if%20num%20%3E%20the_max%3A%0A%20%20%20%20%20%20%20%20the_max%20%3D%20num%0A%20%20%20%20%20%20%20%20%0A%23%20Examine%20the%20result%0Aprint%28the_max%29&cumulative=false&curInstr=0&heapPrimitives=false&mode=display&origin=opt-frontend.js&py=3&rawInputLstJSON=%5B%5D&textReferences=false\">Try it with this link</a>\n",
    "</h3>\n",
    "<li><h3>Nice for learning and experimentation\n",
    "</h3>\n",
    "<li><h3>Works for small, self-contained programs\n",
    "</h3>\n",
    "</ul>\n",
    "</div>"
   ]
  },
  {
   "cell_type": "markdown",
   "metadata": {},
   "source": [
    "<div style=\"height:350px;padding:10px;background:#ffdddd;\">\n",
    "<h1 align=\"center\">Try this\n",
    "</h1>\n",
    "<ul>\n",
    "<li><h3>Write a loop that finds the sum of the numbers in a list instead of the max.</h3>\n",
    "<li><h3>Write a loop that counts how many even numbers are in a list.</h3>\n",
    "</ul>\n",
    "</div>"
   ]
  },
  {
   "cell_type": "markdown",
   "metadata": {},
   "source": [
    "<div style=\"height:350px;padding:10px;background:#eeeeee;\">\n",
    "<h1 align=\"center\">More things to think about\n",
    "</h1>\n",
    "<ul>\n",
    "\n",
    "<li><h2>Do I really have to hard-code the list values into my program like that?\n",
    "</h2>\n",
    "  <ul>\n",
    "  <li><h3>Definitely not! We usually read data from files.\n",
    "  </h3>\n",
    "  </ul>\n",
    "<li><h2>How can we re-use this code for a different list?\n",
    "</h2>\n",
    "  <ul>\n",
    "  <li><h3>We need to define a <em>function</em>\n",
    "  </h3>\n",
    "  </ul>\n",
    "</ul>\n",
    "\n",
    "</div>"
   ]
  },
  {
   "cell_type": "markdown",
   "metadata": {},
   "source": [
    "### *Example: Defining a function to find the max*"
   ]
  },
  {
   "cell_type": "code",
   "execution_count": null,
   "metadata": {
    "collapsed": true
   },
   "outputs": [],
   "source": [
    "def find_max(lst):\n",
    "    the_max = lst[0]\n",
    "    for num in lst:\n",
    "        if num > the_max:\n",
    "            the_max = num\n",
    "    return the_max\n",
    "\n"
   ]
  },
  {
   "cell_type": "code",
   "execution_count": null,
   "metadata": {},
   "outputs": [],
   "source": [
    "# Now, we can call the function, and it returns the value we want\n",
    "my_list = [43, 17, 67, 32, 86, 79, 18]\n",
    "m = find_max(my_list)\n",
    "print(m)\n",
    "m = find_max([3, 5, 4])\n",
    "print(m)"
   ]
  },
  {
   "cell_type": "markdown",
   "metadata": {},
   "source": [
    "<div style=\"height:350px;padding:10px;background:#eeeeee;\">\n",
    "<h1 align=\"center\">Reinventing the wheel\n",
    "</h1>\n",
    "<ul>\n",
    "<li><h2>That was great, but...\n",
    "</h2>\n",
    "<li><h2>Python already has a built-in function to find the max in a list!\n",
    "</h2>\n",
    "<li><h2>Many of the operations you need for data analysis have already been written\n",
    "</h2>\n",
    "<li><h2>We just have to learn how to find and use them\n",
    "</h2>\n",
    "</ul>\n",
    "</div>"
   ]
  },
  {
   "cell_type": "code",
   "execution_count": null,
   "metadata": {},
   "outputs": [],
   "source": [
    "# Python's built in max() function\n",
    "max(my_list)"
   ]
  },
  {
   "cell_type": "markdown",
   "metadata": {
    "collapsed": true
   },
   "source": [
    "<div style=\"height:350px;padding:10px;background:#eeeeee;\">\n",
    "<h1 align=\"center\">Modules\n",
    "</h1>\n",
    "<ul>\n",
    "<li><h2>There are relatively few built-in functions like <code>print</code> and <code>len</code>\n",
    "</h2>\n",
    "<li><h2>A <em>module</em> is just a file with function definitions\n",
    "</h2>\n",
    "<ul>\n",
    "  <li><h3>May also define <em>data types</em> (\"classes\")\n",
    "  </h3>\n",
    "  <li><h3>Typically not executable as a program by itself\n",
    "  </h3>\n",
    "  </ul>\n",
    "<li><h2>A Python installation includes many modules as part of its \n",
    "<a href=\"https://docs.python.org/3/library/index.html\">standard library</a>\n",
    "</h2>\n",
    "<ul>\n",
    "  <li><h3>You'll use many more that are \"user-defined\", e.g pandas, numpy, pyspark\n",
    "  </h3>\n",
    "  <li><h3>You can also define your own to make your code reusable\n",
    "  </h3>\n",
    "  </ul>\n",
    "</ul>\n",
    "</div>"
   ]
  },
  {
   "cell_type": "markdown",
   "metadata": {},
   "source": [
    "### Example: importing a module"
   ]
  },
  {
   "cell_type": "code",
   "execution_count": null,
   "metadata": {
    "scrolled": true
   },
   "outputs": [],
   "source": [
    "# Importing the module math.py\n",
    "import math\n",
    "\n",
    "# Using the \"qualified name\" for the cosine function (and pi constant)\n",
    "math.cos(math.pi / 3)"
   ]
  },
  {
   "cell_type": "code",
   "execution_count": null,
   "metadata": {},
   "outputs": [],
   "source": [
    "29.0 / 100.0 * 100.0"
   ]
  },
  {
   "cell_type": "code",
   "execution_count": null,
   "metadata": {},
   "outputs": [],
   "source": [
    "# Importing a module, but giving it a different name\n",
    "import math as foo\n",
    "foo.cos(foo.pi / 3)"
   ]
  },
  {
   "cell_type": "code",
   "execution_count": null,
   "metadata": {},
   "outputs": [],
   "source": [
    "# Importing just specific names from a module - generally not recommended\n",
    "from math import cos, pi\n",
    "cos(pi / 3)"
   ]
  },
  {
   "cell_type": "markdown",
   "metadata": {},
   "source": [
    "<div style=\"height:350px;padding:10px;background:#eeeeee;\">\n",
    "<h1 align=\"center\">Getting module documentation\n",
    "</h1>\n",
    "<ul>\n",
    "<li><h2>Standard library reference\n",
    "</h2>\n",
    "<a href=\"https://docs.python.org/3/library/index.html\">https://docs.python.org/3/library/index.html</a>\n",
    "<li><h2>Instant help on imported modules\n",
    "</h2>\n",
    "<ul>\n",
    "  <li><h3>just type, e.g., <code>help(math.cos)</code> or <code>help(math)</code>\n",
    "  </h3>\n",
    "  </ul>\n",
    "<ul>\n",
    "<li><h2>Note \"optional arguments\" and \"keyword arguments\" in function documentation...\n",
    "</h2>\n",
    "</ul>\n",
    "</div>"
   ]
  },
  {
   "cell_type": "code",
   "execution_count": null,
   "metadata": {
    "scrolled": false
   },
   "outputs": [],
   "source": [
    "import math\n",
    "help(math.log)\n"
   ]
  },
  {
   "cell_type": "code",
   "execution_count": null,
   "metadata": {},
   "outputs": [],
   "source": [
    "import math\n",
    "math.log(32, 2)\n"
   ]
  },
  {
   "cell_type": "code",
   "execution_count": null,
   "metadata": {},
   "outputs": [],
   "source": [
    "help(print)"
   ]
  },
  {
   "cell_type": "code",
   "execution_count": null,
   "metadata": {},
   "outputs": [],
   "source": [
    "print(\"Hello\", end=\"\")\n",
    "print(\"World\")"
   ]
  },
  {
   "cell_type": "markdown",
   "metadata": {},
   "source": [
    "<div style=\"height:400px;padding:10px;background:#eeeeee;\">\n",
    "<h1 align=\"center\">How does the interpreter find modules?\n",
    "</h1>\n",
    "<ul>\n",
    "<li><h2>Looks in the current working directory\n",
    "</h2>\n",
    "<li><h2>Looks in <code>sys.path</code>\n",
    "</h2>\n",
    "<ul>\n",
    "  <li><h3>Normally includes a directory called site-packages for user-installed packages\n",
    "  </h3>\n",
    "  </ul>\n",
    "<li><h2>Choices for using a new (non-standard) module\n",
    "</h2>\n",
    "<ul>\n",
    "  <li><h3>Put it in current directory\n",
    "  </h3>\n",
    "  <li><h3>Put it in site-packages directory\n",
    "  </h3>\n",
    "  <li><h3>Append its location to <code>sys.path</code>\n",
    "  </h3>\n",
    "    </ul>\n",
    "    \n",
    "</ul>\n",
    "  <pre>\n",
    "import sys\n",
    "sys.path.append(\"/path/to/some/directory\")\n",
    "  </pre>\n",
    "\n",
    "</div>"
   ]
  },
  {
   "cell_type": "markdown",
   "metadata": {},
   "source": [
    "<div style=\"height:350px;padding:10px;background:#eeeeee;\">\n",
    "<h1 align=\"center\">Next: objects and methods\n",
    "</h1>\n",
    "<ul>\n",
    "<li><h2>We have seen some simple types such as, <code>int</code>,  <code>float</code>,  <code>bool</code>, and functions like <code>math.sqrt</code> that operate on them\n",
    "</h2>\n",
    "<li><h2>A list is something different, an example of an <em>object</em>\n",
    "</h2>\n",
    "<ul>\n",
    "  <li><h3>Part of its definition is a collection of functions, called <em>methods</em>, that operate on the list <em>itself</em>\n",
    "  </h3>\n",
    "    <li><h3>Methods are invoked using a \"dot\" notation (looks similar to qualifying with a module name)\n",
    "  </h3>\n",
    "  </ul>\n",
    "</ul>\n",
    "</div>"
   ]
  },
  {
   "cell_type": "markdown",
   "metadata": {},
   "source": [
    "### *Examples of list methods*"
   ]
  },
  {
   "cell_type": "code",
   "execution_count": null,
   "metadata": {},
   "outputs": [],
   "source": [
    "\n",
    "my_list = [43, 17, 67, 32, 86, 79, 18]\n",
    "print(my_list)\n",
    "my_other_list = [3, 6, 5]\n",
    "\n",
    "# Use a method to append a new element to this list\n",
    "#my_list.append(137)\n",
    "my_other_list.append(137)\n",
    "print(my_list)\n",
    "print(my_other_list)"
   ]
  },
  {
   "cell_type": "code",
   "execution_count": null,
   "metadata": {},
   "outputs": [],
   "source": [
    "# Another useful method that modifies the list\n",
    "my_list.sort()         # returns nothing\n",
    "my_list                # ... but modifies the list"
   ]
  },
  {
   "cell_type": "code",
   "execution_count": null,
   "metadata": {
    "collapsed": true
   },
   "outputs": [],
   "source": [
    "# By contrast, getting the length is a call to a built-in function, not a method\n",
    "len(my_list)"
   ]
  },
  {
   "cell_type": "code",
   "execution_count": null,
   "metadata": {},
   "outputs": [],
   "source": [
    "# What is the type of a list?\n",
    "my_list = [43, 17, 67, 32, 86, 79, 18]\n",
    "type(my_list)"
   ]
  },
  {
   "cell_type": "markdown",
   "metadata": {},
   "source": [
    "### *Some indexing/slicing examples, while we're at it*"
   ]
  },
  {
   "cell_type": "code",
   "execution_count": null,
   "metadata": {},
   "outputs": [],
   "source": [
    "my_list = [43, 17, 67, 32, 86, 79, 18]\n",
    "\n",
    "# Individual elements can be accessed by index\n",
    "print(my_list[0])\n",
    "print(my_list[6])\n",
    "\n",
    "# Negative values count from the end!\n",
    "print(my_list[len(my_list) - 1])\n",
    "print(my_list[-2])\n",
    "\n",
    "# Out of range index is an error\n",
    "#print(my_list[-8])"
   ]
  },
  {
   "cell_type": "code",
   "execution_count": null,
   "metadata": {},
   "outputs": [],
   "source": [
    "# Can use a range of indices to get a \"slice\"\n",
    "# This gives us elements at indices 2, 3, and 4 (upper bound not included)\n",
    "my_list[2:5]"
   ]
  },
  {
   "cell_type": "code",
   "execution_count": null,
   "metadata": {},
   "outputs": [],
   "source": [
    "# This is everything from index 3 up to the end\n",
    "my_list[:3]"
   ]
  },
  {
   "cell_type": "markdown",
   "metadata": {},
   "source": [
    "<div style=\"height:350px;padding:10px;background:#eeeeee;\">\n",
    "<h1 align=\"center\">Strings are objects too\n",
    "</h1>\n",
    "<ul>\n",
    "<li><h2>A string is indexed like a list of characters, but it is <em>immutable</em>\n",
    "</h2>\n",
    "<li><h2>Has methods specific to text, such as `upper()`, `lower()`, `strip()`\n",
    "</h2>\n",
    "<li><h2>One very useful method is `split()` (returns a list of strings)\n",
    "</h2>\n",
    "<ul>\n",
    "<li><h3>`split()` gives you a list of strings as delimited by whitespace</h3>\n",
    "<li><h3>`split(delim)` gives you a list of strings as delimited by the given string `delim` (regular expression)</h3>\n",
    "</ul>\n",
    "</ul>\n",
    "</div>"
   ]
  },
  {
   "cell_type": "markdown",
   "metadata": {},
   "source": [
    "### *Example: strings are immutable*"
   ]
  },
  {
   "cell_type": "code",
   "execution_count": null,
   "metadata": {},
   "outputs": [],
   "source": [
    "s = \"Steve\"\n",
    "s = s.upper()\n",
    "#print(t)\n",
    "\n",
    "# Note s is unchanged\n",
    "print(s)  "
   ]
  },
  {
   "cell_type": "markdown",
   "metadata": {},
   "source": [
    "### *Example: using the `split()` method*"
   ]
  },
  {
   "cell_type": "code",
   "execution_count": null,
   "metadata": {},
   "outputs": [],
   "source": [
    "# A string of comma-separated tokens\n",
    "s = \"Kautz, Steve, Senior Lecturer, Atanasoff, 101, 294, 4183\"\n",
    "\n",
    "# Grab the last two items and concatenate them together\n",
    "values = s.split(\",\")\n",
    "print(values)\n",
    "phone = values[-2].strip() + \"-\" + values[-1].strip()\n",
    "phone"
   ]
  },
  {
   "cell_type": "code",
   "execution_count": null,
   "metadata": {},
   "outputs": [],
   "source": [
    "s = \"foo bar baz        \"\n",
    "len(s.strip())\n",
    "\n"
   ]
  },
  {
   "cell_type": "markdown",
   "metadata": {},
   "source": [
    "<div style=\"height:350px;padding:10px;background:#ffdddd;\">\n",
    "<h1 align=\"center\">Try this\n",
    "</h1>\n",
    "<ul>\n",
    "<li><h3>Write a function that returns the longest word in a sentence.\n",
    "</ul>\n",
    "For example, given \"So long and thanks for all the fish\", your function returns \"thanks\".\n",
    "</div>"
   ]
  },
  {
   "cell_type": "markdown",
   "metadata": {},
   "source": [
    "<div style=\"height:350px;padding:10px;background:#eeeeee;\">\n",
    "<h1 align=\"center\">Dictionaries and sets\n",
    "</h1>\n",
    "<ul>\n",
    "<li><h2>A list is sequential: it associates integer indices with values\n",
    "</h2>\n",
    "<li><h2>A <em>dictionary</em> associates arbitrary keys to values\n",
    "</h2>\n",
    "<ul>\n",
    "  <li><h3>A <em>set</em> is just a dictionary in which keys have no associated value (all you care about is whether or not the key is present)\n",
    "  </h3>\n",
    "\n",
    "  </ul>\n",
    "<li><h2>Looking up an item in a set or dictionary is generally much faster than searching for it in a list\n",
    "</h2>\n",
    "</ul>\n",
    "</div>"
   ]
  },
  {
   "cell_type": "markdown",
   "metadata": {},
   "source": [
    "### *Example: a dictionary*"
   ]
  },
  {
   "cell_type": "code",
   "execution_count": null,
   "metadata": {},
   "outputs": [],
   "source": [
    "# Creates an empty dictionary\n",
    "d = {}\n",
    "\n",
    "# Add some key/value pairs (keys don't have to be strings)\n",
    "d[\"Steve\"] = 4183\n",
    "d[\"Hridesh\"] = 1234\n",
    "\n",
    "# Literal notation for dictionary\n",
    "print(d)\n",
    "print()\n",
    "\n",
    "# Looking up values\n",
    "print(d[\"Steve\"])\n",
    "print()\n",
    "\n",
    "# Check membership of some keys\n",
    "print(\"Steve\" in d)\n",
    "print(\"James\" in d)\n",
    "print()\n",
    "\n",
    "# Iterate over keys (order is arbitrary)\n",
    "for key in d:\n",
    "    print(key + \":\" + str(d[key]))\n",
    "\n"
   ]
  },
  {
   "cell_type": "markdown",
   "metadata": {
    "collapsed": true
   },
   "source": [
    "<div style=\"height:360px;padding:10px;background:#eeeeee;\">\n",
    "<h1 align=\"center\">Reading text files</h1>\n",
    "<pre>\n",
    "f = open(\"path/to/file\")\n",
    "for line in f:\n",
    "    # do something with the line\n",
    "f.close()\n",
    "</pre>\n",
    "\n",
    "<pre>\n",
    "f = open(\"path/to/file\")\n",
    "lines = f.readlines()\n",
    "f.close()\n",
    "for line in lines:\n",
    "    # do something with the line\n",
    "\n",
    "</pre>\n",
    "<ul><li><h3>The latter is more flexible; e.g., can ignore every other line or skip the first line\n",
    "</h3>\n",
    "</ul>\n",
    "<pre>\n",
    "    # skips the first line\n",
    "    for line in lines[1:]:\n",
    "</pre>\n",
    "&nbsp;\n",
    "&nbsp;\n",
    "</div>"
   ]
  },
  {
   "cell_type": "markdown",
   "metadata": {},
   "source": [
    "<h3><em>File-reading example - for this to work as written, the tips.csv file needs to be in the <strong>current directory</strong> for the notebook (check using `%pwd` and `%ls`)</em>.\n",
    "<h4>Remember the file came from <br>\n",
    "<a href=\"https://github.com/heike/summerschool-2018/tree/master/01-Introduction-to-R/data\">\n",
    "https://github.com/heike/summerschool-2018/tree/master/01-Introduction-to-R/data</a></h4>"
   ]
  },
  {
   "cell_type": "code",
   "execution_count": null,
   "metadata": {
    "scrolled": true
   },
   "outputs": [],
   "source": [
    "%cd \"../mbds18\""
   ]
  },
  {
   "cell_type": "code",
   "execution_count": null,
   "metadata": {},
   "outputs": [],
   "source": [
    "# Open the tips.csv file and just print the first 5 lines\n",
    "f = open(\"tips.csv\")\n",
    "lines = f.readlines()\n",
    "for line in lines[:5]:\n",
    "    print(line, end=\"\")\n",
    "f.close()"
   ]
  },
  {
   "cell_type": "code",
   "execution_count": null,
   "metadata": {},
   "outputs": [],
   "source": [
    "%pwd"
   ]
  },
  {
   "cell_type": "markdown",
   "metadata": {},
   "source": [
    "<div style=\"height:350px;padding:10px;background:#eeeeee;\">\n",
    "<h1 align=\"center\">What if the file isn't in the current directory?\n",
    "</h1>\n",
    "<ul>\n",
    "<li><h2>Change the current directory?\n",
    "</h2>\n",
    "<ul>\n",
    "  <li><h3>Jupyter allows \"magic\" commands <code>%pwd</code>, <code>%cd</code>\n",
    "  </h3>\n",
    "  </ul>\n",
    "<li><h2>Provide an absolute or relative path to the file?\n",
    "</h2>\n",
    "\n",
    "</ul>\n",
    "<h2>(<code>open()</code> can also fail because of file permissions, network connections, ...)\n",
    "</h2>\n",
    "</div>"
   ]
  },
  {
   "cell_type": "markdown",
   "metadata": {},
   "source": [
    "### *Another file-reading example - find the average tip rate for women*"
   ]
  },
  {
   "cell_type": "code",
   "execution_count": null,
   "metadata": {},
   "outputs": [],
   "source": [
    "# Find the average tip rate for women\n",
    "\n",
    "# Note: There is a little \"gotcha\" here, which is that in the csv file, the string indicating\n",
    "# the sex of the tipper actually includes the double-quote characters, so we have to\n",
    "# strip them off \n",
    "\n",
    "f = open(\"tips.csv\")\n",
    "lines = f.readlines()\n",
    "f.close()\n",
    "total = 0.0\n",
    "count = 0\n",
    "\n",
    "for line in lines[1:]:\n",
    "    tokens = line.split(',')\n",
    "    sex = tokens[2]\n",
    "    sex = sex[1:-1]    # strip off the quotation marks\n",
    "    if sex == 'Female':\n",
    "        bill = float(tokens[0])  # convert text to number\n",
    "        tip = float(tokens[1])\n",
    "        rate = tip / bill\n",
    "        total += rate   # abbreviates total = total + rate\n",
    "        count += 1      # abbreviates count = count + 1\n",
    "\n",
    "\n",
    "mean = total / count\n",
    "mean\n"
   ]
  },
  {
   "cell_type": "markdown",
   "metadata": {},
   "source": [
    "<div style=\"height:350px;padding:10px;background:#eeeeee;\">\n",
    "<h1 align=\"center\">I still don't want to be a programmer</h1>\n",
    "<ul>\n",
    "<li><h2>I know, I know\n",
    "</h2>\n",
    "<li><h2>We know how to</h2>\n",
    "  <ul>\n",
    "  <li><h3>Use variables, basic language structure</h3> \n",
    "  <li><h3>Use strings, lists and dictionaries</h3> \n",
    "  <li><h3>Call methods on objects</h3> \n",
    "  <li><h3>Import modules, use functions defined in modules</h3> \n",
    "  </ul>\n",
    "\n",
    "</ul>\n",
    "</div>"
   ]
  },
  {
   "cell_type": "markdown",
   "metadata": {
    "collapsed": true
   },
   "source": [
    "<div style=\"height:350px;padding:10px;background:#eeeeee;\">\n",
    "<h1 align=\"center\">Using the pandas module</h1>\n",
    "</h1>\n",
    "<ul>\n",
    "<li><h2>More sophisticated data structures (Series, DataFrame)\n",
    "</h2>\n",
    "<li><h2>Wrappers for then <code>numpy</code> and <code>mathplotlib</code> modules\n",
    "</h2>\n",
    "<li><h2>See\n",
    "</h2>\n",
    "<ul>\n",
    "  <li><h3><a href=\"http://www.oreilly.com/pub/e/2412\">Python for Data Analysis</a> - webcast by Wes McKinney\n",
    "  </h3>\n",
    "  <li><h3><a href=\"https://pandas.pydata.org/pandas-docs/stable/index.html\">pandas Documentation</a>\n",
    "  </h3>\n",
    "  </ul>\n",
    "<li><h3>What follows is a very brief demo of what's possible with this library using very little programming\n",
    "</h3>\n",
    "<li><h3><em>Disclaimer: I know just enough about this to be really, really dangerous</em>\n",
    "</h3>\n",
    "</ul>\n",
    "</div>"
   ]
  },
  {
   "cell_type": "code",
   "execution_count": null,
   "metadata": {
    "collapsed": true
   },
   "outputs": [],
   "source": [
    "# ipython Magic\n",
    "%matplotlib notebook\n",
    "\n",
    "import pandas as pd\n",
    "import numpy as np\n",
    "import matplotlib.pyplot as plt"
   ]
  },
  {
   "cell_type": "markdown",
   "metadata": {},
   "source": [
    "### *A Series is a linear data structure like a list, but values can have associated labels*"
   ]
  },
  {
   "cell_type": "code",
   "execution_count": null,
   "metadata": {},
   "outputs": [],
   "source": [
    "data = [2, 4, 6, 8]\n",
    "index = ['a', 'b', 'c', 'd']\n",
    "ser = pd.Series(data, index)   # constructing a new Series object\n",
    "ser"
   ]
  },
  {
   "cell_type": "markdown",
   "metadata": {},
   "source": [
    "### *Arithmetic operations can be performed in the aggregate*"
   ]
  },
  {
   "cell_type": "code",
   "execution_count": null,
   "metadata": {},
   "outputs": [],
   "source": [
    "ser * 2"
   ]
  },
  {
   "cell_type": "markdown",
   "metadata": {},
   "source": [
    "### *There are lots of statistical methods too*"
   ]
  },
  {
   "cell_type": "code",
   "execution_count": null,
   "metadata": {},
   "outputs": [],
   "source": [
    "(ser * 2).mean()"
   ]
  },
  {
   "cell_type": "code",
   "execution_count": null,
   "metadata": {
    "collapsed": true
   },
   "outputs": [],
   "source": [
    "### *When operations are performed on two Series objects, values are aligned by the labels*"
   ]
  },
  {
   "cell_type": "code",
   "execution_count": null,
   "metadata": {},
   "outputs": [],
   "source": [
    "\n",
    "data2 = [10, 20, 30, 40]\n",
    "index2 = ['c', 'b','a', 'd']\n",
    "ser2 = pd.Series(data2, index2)    # Constructs a new Series object\n",
    "\n",
    "# Add corresponding values\n",
    "ser + ser2\n",
    "#help()\n",
    "#ser2\n",
    "print(ser['a'])"
   ]
  },
  {
   "cell_type": "markdown",
   "metadata": {},
   "source": [
    "### *A DataFrame is like a spreadsheet, with rows and columns and possible row and column labels. We can create a DataFrame in several ways, but the most obvious is to read data from a file such as a csv file*"
   ]
  },
  {
   "cell_type": "code",
   "execution_count": null,
   "metadata": {
    "collapsed": true
   },
   "outputs": [],
   "source": [
    "df = pd.read_csv('tips.csv')\n",
    "#type(df)"
   ]
  },
  {
   "cell_type": "markdown",
   "metadata": {},
   "source": [
    "### *Examine the first few lines*"
   ]
  },
  {
   "cell_type": "code",
   "execution_count": null,
   "metadata": {},
   "outputs": [],
   "source": [
    "df.head()"
   ]
  },
  {
   "cell_type": "markdown",
   "metadata": {},
   "source": [
    "### *A DataFrame acts like a dictionary mapping column labels to a Series, so we can select one column using the column label as a \"key\"*"
   ]
  },
  {
   "cell_type": "code",
   "execution_count": null,
   "metadata": {},
   "outputs": [],
   "source": [
    "type(df['total_bill'])"
   ]
  },
  {
   "cell_type": "code",
   "execution_count": null,
   "metadata": {},
   "outputs": [],
   "source": [
    "df['total_bill'].head()"
   ]
  },
  {
   "cell_type": "markdown",
   "metadata": {},
   "source": [
    "### *We can add a new column for the tip rate, computed from existing columns*"
   ]
  },
  {
   "cell_type": "code",
   "execution_count": null,
   "metadata": {},
   "outputs": [],
   "source": [
    "# Add a new column\n",
    "df['rate'] = df['tip'] / df['total_bill']\n",
    "df.head()"
   ]
  },
  {
   "cell_type": "markdown",
   "metadata": {},
   "source": [
    "### *It's possible to delete a column too.  (If you accidentally do it twice, it will generate an error.)*"
   ]
  },
  {
   "cell_type": "code",
   "execution_count": null,
   "metadata": {
    "collapsed": true
   },
   "outputs": [],
   "source": [
    "# can delete a column too (doing it twice is an error!)\n",
    "del df['time']\n"
   ]
  },
  {
   "cell_type": "code",
   "execution_count": null,
   "metadata": {},
   "outputs": [],
   "source": [
    "df.head()"
   ]
  },
  {
   "cell_type": "markdown",
   "metadata": {},
   "source": [
    "### *Applying a method to one column*"
   ]
  },
  {
   "cell_type": "code",
   "execution_count": null,
   "metadata": {
    "scrolled": true
   },
   "outputs": [],
   "source": [
    "# mean of a column\n",
    "df['rate'].mean()"
   ]
  },
  {
   "cell_type": "code",
   "execution_count": null,
   "metadata": {},
   "outputs": [],
   "source": [
    "# simpler notation\n",
    "df.tip.mean()"
   ]
  },
  {
   "cell_type": "markdown",
   "metadata": {},
   "source": [
    "### *Applying a method to the whole DataFrame applies it to each column, and returns a Series containing the values.  Here, the non-numeric columns are omitted.*"
   ]
  },
  {
   "cell_type": "code",
   "execution_count": null,
   "metadata": {},
   "outputs": [],
   "source": [
    "df.mean()"
   ]
  },
  {
   "cell_type": "markdown",
   "metadata": {},
   "source": [
    "### *A boolean operation returns a series that can be used to select a subset of the rows*"
   ]
  },
  {
   "cell_type": "code",
   "execution_count": null,
   "metadata": {},
   "outputs": [],
   "source": [
    "# This is a series that is essentially a boolean vector\n",
    "ser = (df.sex == 'Female')\n",
    "ser.head()\n"
   ]
  },
  {
   "cell_type": "code",
   "execution_count": null,
   "metadata": {},
   "outputs": [],
   "source": [
    "# Can select from dataframe based on boolean vector\n",
    "women = df[df.sex == 'Female']\n",
    "women.head()"
   ]
  },
  {
   "cell_type": "code",
   "execution_count": null,
   "metadata": {},
   "outputs": [],
   "source": [
    "women.rate.mean()"
   ]
  },
  {
   "cell_type": "markdown",
   "metadata": {},
   "source": [
    "### *The* `groupby` *method is another way to get the tip rate for women*"
   ]
  },
  {
   "cell_type": "code",
   "execution_count": null,
   "metadata": {},
   "outputs": [],
   "source": [
    "s = df.groupby('sex').rate.mean()\n",
    "s"
   ]
  },
  {
   "cell_type": "markdown",
   "metadata": {},
   "source": [
    "### *The* `plot` *method is a wrapper for the corresponding operation of* `matplotlib`. *Here is one simple example.  See<br> http://pandas.pydata.org/pandas-docs/version/0.15.0/visualization.html\n"
   ]
  },
  {
   "cell_type": "code",
   "execution_count": null,
   "metadata": {},
   "outputs": [],
   "source": [
    "df.plot(kind='scatter', x='total_bill', y='tip')"
   ]
  },
  {
   "cell_type": "markdown",
   "metadata": {},
   "source": [
    "<div style=\"height:350px;padding:10px;background:#eeeeee;\">\n",
    "<h1 align=\"center\">Thank you!\n",
    "</h1>\n",
    "\n",
    "</div>"
   ]
  }
 ],
 "metadata": {
  "kernelspec": {
   "display_name": "Python 3",
   "language": "python",
   "name": "python3"
  },
  "language_info": {
   "codemirror_mode": {
    "name": "ipython",
    "version": 3
   },
   "file_extension": ".py",
   "mimetype": "text/x-python",
   "name": "python",
   "nbconvert_exporter": "python",
   "pygments_lexer": "ipython3",
   "version": "3.6.1"
  }
 },
 "nbformat": 4,
 "nbformat_minor": 1
}
